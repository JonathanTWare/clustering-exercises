{
 "cells": [
  {
   "cell_type": "code",
   "execution_count": 1,
   "id": "1356041c-6186-493f-bbd7-aed4afea5340",
   "metadata": {},
   "outputs": [],
   "source": [
    "import seaborn as sns\n",
    "import matplotlib.pyplot as plt\n",
    "import pandas as pd\n",
    "import numpy as np\n",
    "from env import get_db_url\n",
    "import os\n",
    "from sklearn.model_selection import train_test_split\n",
    "import pandas as pd\n",
    "from pydataset import data\n",
    "from env import get_db_url\n",
    "import pandas as pd\n",
    "import numpy as np\n",
    "import wrangle_zillow as w\n",
    "import warnings\n",
    "import scipy.stats as stats\n",
    "warnings.filterwarnings('ignore')"
   ]
  },
  {
   "cell_type": "code",
   "execution_count": 2,
   "id": "17262084-21fc-484f-a585-0ea6c0cd8e73",
   "metadata": {},
   "outputs": [],
   "source": [
    "train, validate, test = w.wrangle_zillow()"
   ]
  },
  {
   "cell_type": "code",
   "execution_count": 3,
   "id": "7439b447-7374-40da-ab75-3d83685f9f20",
   "metadata": {},
   "outputs": [
    {
     "ename": "NameError",
     "evalue": "name 'df' is not defined",
     "output_type": "error",
     "traceback": [
      "\u001b[0;31m---------------------------------------------------------------------------\u001b[0m",
      "\u001b[0;31mNameError\u001b[0m                                 Traceback (most recent call last)",
      "Cell \u001b[0;32mIn[3], line 1\u001b[0m\n\u001b[0;32m----> 1\u001b[0m train \u001b[38;5;241m=\u001b[39m \u001b[43mdf\u001b[49m\n",
      "\u001b[0;31mNameError\u001b[0m: name 'df' is not defined"
     ]
    }
   ],
   "source": [
    "df = train"
   ]
  },
  {
   "cell_type": "markdown",
   "id": "384b12b2-746e-47df-aa8b-4c8ae2c03a03",
   "metadata": {},
   "source": [
    "# 1. Is logerror significantly different for properties in LA County vs Orange County vs Ventura County?"
   ]
  },
  {
   "cell_type": "markdown",
   "id": "d7cce446-1ff2-4aa7-bd6b-a2a921cb7179",
   "metadata": {},
   "source": [
    "### Ho: Logerror is not significantly different for all 3 counties.\n",
    "### Ha: Logerror is significantly different for all 3 counties."
   ]
  },
  {
   "cell_type": "code",
   "execution_count": null,
   "id": "9539a04f-21fa-4c8f-847b-1717d801d3b6",
   "metadata": {},
   "outputs": [],
   "source": [
    "import seaborn as sns\n",
    "import matplotlib.pyplot as plt\n",
    "\n",
    "# Create a box plot to compare logerror across counties\n",
    "sns.boxplot(data=train, x='fips', y='logerror')\n",
    "plt.xlabel('fips')\n",
    "plt.ylabel('logerror')\n",
    "plt.title('Logerror Comparison across Counties')\n",
    "plt.show()\n"
   ]
  },
  {
   "cell_type": "code",
   "execution_count": null,
   "id": "6d26e1e8-4922-4ac3-8e23-25c10c99bfd1",
   "metadata": {},
   "outputs": [],
   "source": [
    "sns.barplot(data=train, x='fips', y='logerror')\n",
    "plt.xlabel('fips')\n",
    "plt.ylabel('logerror')\n",
    "plt.title('Logerror Comparison across Counties')\n",
    "plt.show()"
   ]
  },
  {
   "cell_type": "code",
   "execution_count": null,
   "id": "a2112c3d-4a67-48de-9e4c-42504e0ae503",
   "metadata": {},
   "outputs": [],
   "source": [
    "df.logerror.dtype"
   ]
  },
  {
   "cell_type": "code",
   "execution_count": null,
   "id": "00ded924-7aa3-4f76-a42c-e05ac8b63d74",
   "metadata": {},
   "outputs": [],
   "source": [
    "df['logerror'] = df['logerror'].astype(float)\n",
    "df['fips'] = df['fips'].astype(float)\n"
   ]
  },
  {
   "cell_type": "code",
   "execution_count": null,
   "id": "0f884578-d9aa-40a9-aef7-e5cd90a57ee9",
   "metadata": {},
   "outputs": [],
   "source": [
    "group1 = df[df['fips'] == 6037]['logerror']\n",
    "group2 = df[df['fips'] == 6059]['logerror']\n",
    "group3 = df[df['fips'] == 6111]['logerror']\n",
    "alpha = 0.05\n",
    "test_statistic, p_value = stats.f_oneway(group1, group2, group3)\n",
    "\n",
    "\n",
    "print(\"Test Statistic (F-value):\", test_statistic)\n",
    "print(\"p-value:\", p_value)\n"
   ]
  },
  {
   "cell_type": "code",
   "execution_count": null,
   "id": "ba6f490a-62f6-4dc3-9000-23d593a709a8",
   "metadata": {},
   "outputs": [],
   "source": [
    "p_value < alpha"
   ]
  },
  {
   "cell_type": "markdown",
   "id": "70eeea15-bac1-4be9-ae08-a571a85bf627",
   "metadata": {},
   "source": [
    "### We can reject the null hypothesis, therefore Logerror is significantly different for all 3 counties."
   ]
  },
  {
   "cell_type": "markdown",
   "id": "f72468cc-e4d6-4486-9d42-47be99a425d9",
   "metadata": {},
   "source": [
    "# 2. Does log error have a relation with taxvaluedollarcnt?"
   ]
  },
  {
   "cell_type": "markdown",
   "id": "4e004eae-f5e5-42fa-b108-623370f3875b",
   "metadata": {},
   "source": [
    "### Ho: Logerror does not have a relation with taxvaluedollarcnt\n",
    "### Ha: Logerror does have a relation with taxvaluedollarcnt"
   ]
  },
  {
   "cell_type": "code",
   "execution_count": null,
   "id": "6a9e06dd-27b3-48b0-887c-bd4b960e597b",
   "metadata": {},
   "outputs": [],
   "source": [
    "# Create a box plot to compare logerror across counties\n",
    "sns.relplot(data=train, x='logerror', y='taxvaluedollarcnt')\n",
    "plt.xlabel('logerror')\n",
    "plt.ylabel('taxvaluedollarcnt')\n",
    "plt.title('Logerror relation with taxvaluedollarcnt')\n",
    "plt.show()\n"
   ]
  },
  {
   "cell_type": "code",
   "execution_count": null,
   "id": "9b3abe40-8ada-4ab2-b78b-3e42426fa2f1",
   "metadata": {},
   "outputs": [],
   "source": [
    "alpha = 0.05\n",
    "\n",
    "variable1 = 'logerror'\n",
    "variable2 = 'taxvaluedollarcnt'\n",
    "df_cleaned = df.dropna(subset=[variable1, variable2])\n",
    "df_cleaned = df_cleaned.replace([np.inf, -np.inf], np.nan).dropna(subset=[variable1, variable2])\n",
    "\n",
    "correlation_coefficient, p_value = stats.pearsonr(df_cleaned[variable1], df_cleaned[variable2])\n",
    "\n",
    "\n",
    "print(\"Correlation Coefficient:\", correlation_coefficient)\n",
    "print(\"p-value:\", p_value)"
   ]
  },
  {
   "cell_type": "code",
   "execution_count": null,
   "id": "18e4f490-1afa-47f5-86e4-40fb9b05a350",
   "metadata": {},
   "outputs": [],
   "source": [
    "p_value < alpha"
   ]
  },
  {
   "cell_type": "markdown",
   "id": "b2e0c817-3deb-457a-8f9f-571760490fba",
   "metadata": {},
   "source": [
    "### We cannot reject the null hypothesis"
   ]
  },
  {
   "cell_type": "markdown",
   "id": "39fd11a2-5c4e-4257-b773-829dadf40608",
   "metadata": {},
   "source": [
    "## 3. Are fips and taxvaluedollarcnt associated"
   ]
  },
  {
   "cell_type": "markdown",
   "id": "5921c39b-ccae-4d63-8b1c-9a125426b48a",
   "metadata": {},
   "source": [
    "### Ho: fips does not have a association with taxvaluedollarcnt\n",
    "### Ha: fips does have a association with taxvaluedollarcnt"
   ]
  },
  {
   "cell_type": "code",
   "execution_count": null,
   "id": "c48328fc-0382-4d6a-8339-970f53752399",
   "metadata": {},
   "outputs": [],
   "source": [
    "\n",
    "sns.relplot(data=train, x='fips', y='taxvaluedollarcnt')\n",
    "plt.xlabel('fips')\n",
    "plt.ylabel('taxamount')\n",
    "plt.title('fips relation with taxvaluedollarcnt')\n",
    "plt.show()"
   ]
  },
  {
   "cell_type": "code",
   "execution_count": null,
   "id": "17b74daa-5913-4ed0-b717-b97553df53c8",
   "metadata": {},
   "outputs": [],
   "source": [
    "alpha = 0.05\n",
    "\n",
    "variable1 = 'fips'\n",
    "variable2 = 'taxvaluedollarcnt'\n",
    "df_cleaned = df.dropna(subset=[variable1, variable2])\n",
    "df_cleaned = df_cleaned.replace([np.inf, -np.inf], np.nan).dropna(subset=[variable1, variable2])\n",
    "\n",
    "correlation_coefficient, p_value = stats.pearsonr(df_cleaned[variable1], df_cleaned[variable2])\n",
    "\n",
    "\n",
    "print(\"Correlation Coefficient:\", correlation_coefficient)\n",
    "print(\"p-value:\", p_value)"
   ]
  },
  {
   "cell_type": "code",
   "execution_count": null,
   "id": "b7c94419-155f-4e68-a3cf-95de536fcec5",
   "metadata": {},
   "outputs": [],
   "source": [
    "p_value < alpha"
   ]
  },
  {
   "cell_type": "markdown",
   "id": "e9cd96c1-9126-4ff4-9296-e4d49d4dd470",
   "metadata": {},
   "source": [
    "### We can reject the null hypothesis"
   ]
  },
  {
   "cell_type": "markdown",
   "id": "5363abfb-0074-435b-9353-82e048a424ea",
   "metadata": {
    "tags": []
   },
   "source": [
    "## 3. Are regionidzip and calculatedfinishedsquarefeet associated"
   ]
  },
  {
   "cell_type": "markdown",
   "id": "c7602730-5807-4b54-9424-a53f0fb3b754",
   "metadata": {},
   "source": [
    "### Ho: fips does not have a association with calc sqr feet\n",
    "### Ha: fips does have a association with calc sqr feet"
   ]
  },
  {
   "cell_type": "code",
   "execution_count": null,
   "id": "ce113f0b-95a4-4603-8f61-983cf4b81208",
   "metadata": {},
   "outputs": [],
   "source": [
    "sns.barplot(data=train, x='fips', y='calculatedfinishedsquarefeet')\n",
    "plt.xlabel('fips')\n",
    "plt.ylabel('calculatedfinishedsquarefeet')\n",
    "plt.title('fips relation with calculatedfinishedsquarefeet')\n",
    "plt.show()"
   ]
  },
  {
   "cell_type": "code",
   "execution_count": null,
   "id": "ceca53de-b14c-41c6-ab26-fa048f24c596",
   "metadata": {},
   "outputs": [],
   "source": [
    "alpha = 0.05\n",
    "\n",
    "variable1 = 'fips'\n",
    "variable2 = 'calculatedfinishedsquarefeet'\n",
    "df_cleaned = df.dropna(subset=[variable1, variable2])\n",
    "df_cleaned = df_cleaned.replace([np.inf, -np.inf], np.nan).dropna(subset=[variable1, variable2])\n",
    "\n",
    "correlation_coefficient, p_value = stats.pearsonr(df_cleaned[variable1], df_cleaned[variable2])\n",
    "\n",
    "\n",
    "print(\"Correlation Coefficient:\", correlation_coefficient)\n",
    "print(\"p-value:\", p_value)"
   ]
  },
  {
   "cell_type": "code",
   "execution_count": null,
   "id": "aa6b37f4-5eb9-4bb3-b627-2812092f3e33",
   "metadata": {},
   "outputs": [],
   "source": [
    "p_value < alpha"
   ]
  },
  {
   "cell_type": "markdown",
   "id": "10c7cccb-972d-4949-8267-4c9c8a159dd9",
   "metadata": {},
   "source": [
    "### We can reject the null hypothesis"
   ]
  },
  {
   "cell_type": "markdown",
   "id": "2256ed9b-169e-489d-b060-5a006e7ca622",
   "metadata": {},
   "source": [
    "## 4. Is bathroom count and fips related"
   ]
  },
  {
   "cell_type": "markdown",
   "id": "b8da5a56-883d-4346-9c1c-dee32778b35d",
   "metadata": {},
   "source": [
    "### Ho: fips does not have a association with bathroom count\n",
    "### Ha: fips does have a association with bathroom count"
   ]
  },
  {
   "cell_type": "code",
   "execution_count": null,
   "id": "ecb604c1-9d1f-4e99-83e3-4ac9c8136814",
   "metadata": {},
   "outputs": [],
   "source": [
    "sns.barplot(data=train, x='fips', y='bathroomcnt')\n",
    "plt.xlabel('fips')\n",
    "plt.ylabel('bathroomcnt')\n",
    "plt.title('fips relation with bathroomcnt')\n",
    "plt.show()"
   ]
  },
  {
   "cell_type": "code",
   "execution_count": null,
   "id": "a8c04208-28b8-4daa-b018-f75d75012105",
   "metadata": {},
   "outputs": [],
   "source": [
    "alpha = 0.05\n",
    "\n",
    "variable1 = 'fips'\n",
    "variable2 = 'bathroomcnt'\n",
    "df_cleaned = df.dropna(subset=[variable1, variable2])\n",
    "df_cleaned = df_cleaned.replace([np.inf, -np.inf], np.nan).dropna(subset=[variable1, variable2])\n",
    "\n",
    "correlation_coefficient, p_value = stats.pearsonr(df_cleaned[variable1], df_cleaned[variable2])\n",
    "\n",
    "\n",
    "print(\"Correlation Coefficient:\", correlation_coefficient)\n",
    "print(\"p-value:\", p_value)"
   ]
  },
  {
   "cell_type": "code",
   "execution_count": null,
   "id": "43116f39-4e52-42b2-abe5-fadddc7447eb",
   "metadata": {},
   "outputs": [],
   "source": [
    "p_value < alpha"
   ]
  },
  {
   "cell_type": "markdown",
   "id": "dba9f43f-81c2-495e-83ae-46ed048f1666",
   "metadata": {},
   "source": [
    "### We can reject the null hypothesis"
   ]
  },
  {
   "cell_type": "markdown",
   "id": "95d964f5-88fd-48c7-b703-e21b53e5dc2e",
   "metadata": {},
   "source": [
    "# 5. Is fips and calculatedbathnbr related"
   ]
  },
  {
   "cell_type": "markdown",
   "id": "de813ceb-4070-43e5-932f-e6190b5c2a72",
   "metadata": {},
   "source": [
    "### Ho: fips does not have a association with bathnbr\n",
    "### Ha: fips does have a association with bathnbr"
   ]
  },
  {
   "cell_type": "code",
   "execution_count": null,
   "id": "ef2c952f-d592-4838-8a76-f2f11976e388",
   "metadata": {},
   "outputs": [],
   "source": [
    "sns.barplot(data=train, x='fips', y='calculatedbathnbr')\n",
    "plt.xlabel('fips')\n",
    "plt.ylabel('calculatedbathnbr')\n",
    "plt.title('fips relation with bathroomcnt')\n",
    "plt.show()"
   ]
  },
  {
   "cell_type": "code",
   "execution_count": null,
   "id": "fea30c1a-2cd2-4213-827c-66adcd0e4c0c",
   "metadata": {},
   "outputs": [],
   "source": [
    "alpha = 0.05\n",
    "\n",
    "variable1 = 'fips'\n",
    "variable2 = 'bathroomcnt'\n",
    "df_cleaned = df.dropna(subset=[variable1, variable2])\n",
    "df_cleaned = df_cleaned.replace([np.inf, -np.inf], np.nan).dropna(subset=[variable1, variable2])\n",
    "\n",
    "correlation_coefficient, p_value = stats.pearsonr(df_cleaned[variable1], df_cleaned[variable2])\n",
    "\n",
    "\n",
    "print(\"Correlation Coefficient:\", correlation_coefficient)\n",
    "print(\"p-value:\", p_value)"
   ]
  },
  {
   "cell_type": "code",
   "execution_count": null,
   "id": "1551a3db-b36d-4fb7-8647-4234af8c00a1",
   "metadata": {},
   "outputs": [],
   "source": [
    "p_value < alpha"
   ]
  },
  {
   "cell_type": "markdown",
   "id": "7cd2d6a8-eb13-48ae-b15e-a76d5cc6ddea",
   "metadata": {},
   "source": [
    "### We can reject the null hypothesis"
   ]
  }
 ],
 "metadata": {
  "kernelspec": {
   "display_name": "Python 3 (ipykernel)",
   "language": "python",
   "name": "python3"
  },
  "language_info": {
   "codemirror_mode": {
    "name": "ipython",
    "version": 3
   },
   "file_extension": ".py",
   "mimetype": "text/x-python",
   "name": "python",
   "nbconvert_exporter": "python",
   "pygments_lexer": "ipython3",
   "version": "3.10.9"
  }
 },
 "nbformat": 4,
 "nbformat_minor": 5
}
